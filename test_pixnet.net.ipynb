{
 "cells": [
  {
   "cell_type": "code",
   "execution_count": 152,
   "metadata": {
    "collapsed": false
   },
   "outputs": [],
   "source": [
    "# -*- coding: utf-8 -*-\n",
    "\n",
    "import lxml\n",
    "import requests as r\n",
    "from bs4 import BeautifulSoup\n",
    "name=\"hopw721\"\n",
    "URL = \"https://www.pixnet.net/blog/profile/{}\"\n",
    "res = r.get(URL.format(name)) \n",
    "res.encoding = 'utf-8'\n",
    "soup = BeautifulSoup(res.text, 'lxml')\n",
    "a = soup.select_one('h3').text\n",
    "b = soup.select_one('p.hide-more').text\n",
    "c = soup.select_one('a.blog_name').text\n",
    "d = soup.select_one('dl.blog-articles').text.split('：')[1]\n",
    "e = soup.find_all('dd')[1].text\n",
    "f = soup.find_all('dd')[3].text\n",
    "g = soup.find_all('dd')[4].text\n",
    "profile_dict = {'username':a,\n",
    "                'description':b,\n",
    "                'blogname':c,\n",
    "                'blogarticles':d,\n",
    "                'usedays':e,\n",
    "                'hotint':f,\n",
    "                'friends':g,\n",
    "               } \n",
    "print profile_dict\n",
    "json.dump(profile_dict,open('{}.json'.format(name),'w'),ensure_ascii=False)"
   ]
  },
  {
   "cell_type": "markdown",
   "metadata": {},
   "source": [
    "# name list"
   ]
  },
  {
   "cell_type": "code",
   "execution_count": 162,
   "metadata": {
    "collapsed": false
   },
   "outputs": [
    {
     "data": {
      "text/plain": [
       "[]"
      ]
     },
     "execution_count": 162,
     "metadata": {},
     "output_type": "execute_result"
    }
   ],
   "source": [
    "import lxml\n",
    "import requests as r\n",
    "from bs4 import BeautifulSoup\n",
    "name=\"hopw721\"\n",
    "URL = \"http://{}.pixnet.net/friend/list\"\n",
    "res = r.get(URL.format(name)) \n",
    "res.encoding = 'utf-8'\n",
    "soup = BeautifulSoup(res.text, 'lxml')\n",
    "flist=soup.select('tr')\n",
    "a = soup.find_all('a.nickname')\n",
    "a"
   ]
  },
  {
   "cell_type": "code",
   "execution_count": null,
   "metadata": {
    "collapsed": true
   },
   "outputs": [],
   "source": []
  }
 ],
 "metadata": {
  "anaconda-cloud": {},
  "kernelspec": {
   "display_name": "Python [default]",
   "language": "python",
   "name": "python2"
  },
  "language_info": {
   "codemirror_mode": {
    "name": "ipython",
    "version": 2
   },
   "file_extension": ".py",
   "mimetype": "text/x-python",
   "name": "python",
   "nbconvert_exporter": "python",
   "pygments_lexer": "ipython2",
   "version": "2.7.12"
  }
 },
 "nbformat": 4,
 "nbformat_minor": 1
}
